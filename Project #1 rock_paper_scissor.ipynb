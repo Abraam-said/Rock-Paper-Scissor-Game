{
 "cells": [
  {
   "cell_type": "markdown",
   "id": "b896896c",
   "metadata": {},
   "source": [
    "# Rock / Paper / Scissor - Game"
   ]
  },
  {
   "cell_type": "code",
   "execution_count": null,
   "id": "49dfc3ec",
   "metadata": {},
   "outputs": [],
   "source": [
    "import random"
   ]
  },
  {
   "cell_type": "code",
   "execution_count": 2,
   "id": "a1654e31",
   "metadata": {},
   "outputs": [],
   "source": [
    "lst = [1,2,3]"
   ]
  },
  {
   "cell_type": "code",
   "execution_count": 3,
   "id": "11ea9e81",
   "metadata": {},
   "outputs": [
    {
     "data": {
      "text/plain": [
       "2"
      ]
     },
     "execution_count": 3,
     "metadata": {},
     "output_type": "execute_result"
    }
   ],
   "source": [
    "random.choice(lst)"
   ]
  },
  {
   "cell_type": "code",
   "execution_count": 4,
   "id": "f84fddb3",
   "metadata": {},
   "outputs": [],
   "source": [
    "choices = {\n",
    "    1:'rock',\n",
    "    2:'paper',\n",
    "    3:'scissor'\n",
    "}"
   ]
  },
  {
   "cell_type": "code",
   "execution_count": 5,
   "id": "04c0635a",
   "metadata": {},
   "outputs": [
    {
     "name": "stdout",
     "output_type": "stream",
     "text": [
      "Choose a number (1 for rock), (2 for paper), (3 for scissor): 3\n",
      "______________________________________\n",
      "\n",
      "You have chosen scissor\n",
      "Compter have chosen rock\n",
      "______________________________________\n",
      "\n",
      "Rock wins!\n",
      "Computer wins, try again\n",
      "\n",
      "\n",
      "do you want to play again y/n: y\n",
      "Choose a number (1 for rock), (2 for paper), (3 for scissor): 23\n",
      "please enter a number from 1 to 3\n",
      "Choose a number (1 for rock), (2 for paper), (3 for scissor): 1\n",
      "______________________________________\n",
      "\n",
      "You have chosen rock\n",
      "Compter have chosen paper\n",
      "______________________________________\n",
      "\n",
      "Paper Wins!\n",
      "Computer wins, try again\n",
      "\n",
      "\n",
      "do you want to play again y/n: n\n",
      "Thanks for playing\n"
     ]
    }
   ],
   "source": [
    "while True:\n",
    "    \n",
    "    invalid_input = True\n",
    "    computer_choices = [1, 2, 3]\n",
    "\n",
    "    while invalid_input:\n",
    "        \n",
    "        \n",
    "        choice = input(\"Choose a number (1 for rock), (2 for paper), (3 for scissor): \")\n",
    "        if choice.isdigit():\n",
    "            choice = int(choice)\n",
    "            if int(choice) > 3:\n",
    "                print('please enter a number from 1 to 3')\n",
    "            else:\n",
    "                invalid_input = False  \n",
    "        else:\n",
    "            print(\"please only enter a positive number\")\n",
    "\n",
    "    print(\"______________________________________\\n\")\n",
    "\n",
    "    # Choice is valid input\n",
    "    choice_name = choices[choice]\n",
    "    print(f\"You have chosen {choice_name}\")\n",
    "    computer_choices.remove(choice)\n",
    "    comp_choice = random.choice(computer_choices)\n",
    "    comp_name = choices[comp_choice]\n",
    "    print(f\"Computer have chosen {comp_name}\")\n",
    "\n",
    "    print(\"______________________________________\\n\")\n",
    "\n",
    "    #1 => rock\n",
    "    #2 => paper\n",
    "    #3 => scissor\n",
    "\n",
    "    if (choice == 1 and comp_choice == 2) or (choice == 2 and comp_choice == 1):\n",
    "        print(\"Paper Wins!\")\n",
    "        win_result = 'paper'\n",
    "    elif (choice == 1 and comp_choice == 3) or (choice == 3 and comp_choice == 1):\n",
    "        print(\"Rock wins!\")\n",
    "        win_result = \"rock\"\n",
    "    else:\n",
    "        print(\"Scissor Wins!\")\n",
    "        win_result = \"scissor\"\n",
    "\n",
    "    if win_result == choice_name:\n",
    "        print('Congrats, you win')\n",
    "    else:\n",
    "        print(\"Computer wins, try again\")\n",
    "        \n",
    "    print(\"\\n\")  \n",
    "    \n",
    "    ans = input(\"Do you want to play again y/n: \").lower()    \n",
    "    if ans == 'n':\n",
    "        break\n",
    "        \n",
    "        \n",
    "print(\"Thanks for playing\")"
   ]
  },
  {
   "cell_type": "code",
   "execution_count": null,
   "id": "f6cbfccb",
   "metadata": {},
   "outputs": [],
   "source": []
  }
 ],
 "metadata": {
  "kernelspec": {
   "display_name": "ML",
   "language": "python",
   "name": "python3"
  },
  "language_info": {
   "codemirror_mode": {
    "name": "ipython",
    "version": 3
   },
   "file_extension": ".py",
   "mimetype": "text/x-python",
   "name": "python",
   "nbconvert_exporter": "python",
   "pygments_lexer": "ipython3",
   "version": "3.9.16"
  },
  "vscode": {
   "interpreter": {
    "hash": "1e4bcfdbc3e3fc431ba0a748b76af9a5e6d7f0e4acd90ce15c18ac3eb4ebef31"
   }
  }
 },
 "nbformat": 4,
 "nbformat_minor": 5
}
